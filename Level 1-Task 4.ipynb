{
 "cells": [
  {
   "cell_type": "code",
   "execution_count": 1,
   "id": "59ce63c3",
   "metadata": {},
   "outputs": [],
   "source": [
    "import pandas as pd\n",
    "import numpy as np\n",
    "import matplotlib.pyplot as plt"
   ]
  },
  {
   "cell_type": "code",
   "execution_count": 2,
   "id": "c3e056a4",
   "metadata": {},
   "outputs": [
    {
     "data": {
      "text/html": [
       "<div>\n",
       "<style scoped>\n",
       "    .dataframe tbody tr th:only-of-type {\n",
       "        vertical-align: middle;\n",
       "    }\n",
       "\n",
       "    .dataframe tbody tr th {\n",
       "        vertical-align: top;\n",
       "    }\n",
       "\n",
       "    .dataframe thead th {\n",
       "        text-align: right;\n",
       "    }\n",
       "</style>\n",
       "<table border=\"1\" class=\"dataframe\">\n",
       "  <thead>\n",
       "    <tr style=\"text-align: right;\">\n",
       "      <th></th>\n",
       "      <th>Restaurant ID</th>\n",
       "      <th>Restaurant Name</th>\n",
       "      <th>Country Code</th>\n",
       "      <th>City</th>\n",
       "      <th>Longitude</th>\n",
       "      <th>Latitude</th>\n",
       "      <th>Cuisines</th>\n",
       "      <th>Average Cost for two</th>\n",
       "      <th>Currency</th>\n",
       "      <th>Has Table booking</th>\n",
       "      <th>Has Online delivery</th>\n",
       "      <th>Is delivering now</th>\n",
       "      <th>Price range</th>\n",
       "      <th>Aggregate rating</th>\n",
       "      <th>Rating color</th>\n",
       "      <th>Rating text</th>\n",
       "      <th>Votes</th>\n",
       "    </tr>\n",
       "  </thead>\n",
       "  <tbody>\n",
       "    <tr>\n",
       "      <th>0</th>\n",
       "      <td>17284302</td>\n",
       "      <td>El Vaquero Mexican Restaurant</td>\n",
       "      <td>216</td>\n",
       "      <td>Albany</td>\n",
       "      <td>-84.2194</td>\n",
       "      <td>31.6158</td>\n",
       "      <td>Mexican</td>\n",
       "      <td>0</td>\n",
       "      <td>Dollar($)</td>\n",
       "      <td>No</td>\n",
       "      <td>No</td>\n",
       "      <td>No</td>\n",
       "      <td>1</td>\n",
       "      <td>3.4</td>\n",
       "      <td>Orange</td>\n",
       "      <td>Average</td>\n",
       "      <td>45</td>\n",
       "    </tr>\n",
       "    <tr>\n",
       "      <th>1</th>\n",
       "      <td>17330155</td>\n",
       "      <td>Deorio's</td>\n",
       "      <td>216</td>\n",
       "      <td>Columbus</td>\n",
       "      <td>-84.9427</td>\n",
       "      <td>32.4810</td>\n",
       "      <td>Italian, Pizza</td>\n",
       "      <td>0</td>\n",
       "      <td>Dollar($)</td>\n",
       "      <td>No</td>\n",
       "      <td>No</td>\n",
       "      <td>No</td>\n",
       "      <td>1</td>\n",
       "      <td>4.0</td>\n",
       "      <td>Green</td>\n",
       "      <td>Very Good</td>\n",
       "      <td>170</td>\n",
       "    </tr>\n",
       "    <tr>\n",
       "      <th>2</th>\n",
       "      <td>17334679</td>\n",
       "      <td>Azteca</td>\n",
       "      <td>216</td>\n",
       "      <td>Davenport</td>\n",
       "      <td>-90.5683</td>\n",
       "      <td>41.5699</td>\n",
       "      <td>Mexican</td>\n",
       "      <td>0</td>\n",
       "      <td>Dollar($)</td>\n",
       "      <td>No</td>\n",
       "      <td>No</td>\n",
       "      <td>No</td>\n",
       "      <td>1</td>\n",
       "      <td>4.3</td>\n",
       "      <td>Green</td>\n",
       "      <td>Very Good</td>\n",
       "      <td>167</td>\n",
       "    </tr>\n",
       "    <tr>\n",
       "      <th>3</th>\n",
       "      <td>17342548</td>\n",
       "      <td>Happy Joe's Pizza &amp; Ice Cream</td>\n",
       "      <td>216</td>\n",
       "      <td>Dubuque</td>\n",
       "      <td>-90.7264</td>\n",
       "      <td>42.4955</td>\n",
       "      <td>Desserts, Pizza, Ice Cream</td>\n",
       "      <td>0</td>\n",
       "      <td>Dollar($)</td>\n",
       "      <td>No</td>\n",
       "      <td>No</td>\n",
       "      <td>No</td>\n",
       "      <td>1</td>\n",
       "      <td>3.5</td>\n",
       "      <td>Yellow</td>\n",
       "      <td>Good</td>\n",
       "      <td>74</td>\n",
       "    </tr>\n",
       "    <tr>\n",
       "      <th>4</th>\n",
       "      <td>17582499</td>\n",
       "      <td>Royal Hotel</td>\n",
       "      <td>216</td>\n",
       "      <td>Pocatello</td>\n",
       "      <td>-112.0127</td>\n",
       "      <td>42.6192</td>\n",
       "      <td>Pizza, Bar Food</td>\n",
       "      <td>0</td>\n",
       "      <td>Dollar($)</td>\n",
       "      <td>No</td>\n",
       "      <td>No</td>\n",
       "      <td>No</td>\n",
       "      <td>1</td>\n",
       "      <td>3.6</td>\n",
       "      <td>Yellow</td>\n",
       "      <td>Good</td>\n",
       "      <td>59</td>\n",
       "    </tr>\n",
       "  </tbody>\n",
       "</table>\n",
       "</div>"
      ],
      "text/plain": [
       "   Restaurant ID                Restaurant Name  Country Code       City  \\\n",
       "0       17284302  El Vaquero Mexican Restaurant           216     Albany   \n",
       "1       17330155                       Deorio's           216   Columbus   \n",
       "2       17334679                         Azteca           216  Davenport   \n",
       "3       17342548  Happy Joe's Pizza & Ice Cream           216    Dubuque   \n",
       "4       17582499                    Royal Hotel           216  Pocatello   \n",
       "\n",
       "   Longitude  Latitude                    Cuisines  Average Cost for two  \\\n",
       "0   -84.2194   31.6158                     Mexican                     0   \n",
       "1   -84.9427   32.4810              Italian, Pizza                     0   \n",
       "2   -90.5683   41.5699                     Mexican                     0   \n",
       "3   -90.7264   42.4955  Desserts, Pizza, Ice Cream                     0   \n",
       "4  -112.0127   42.6192             Pizza, Bar Food                     0   \n",
       "\n",
       "    Currency Has Table booking Has Online delivery Is delivering now  \\\n",
       "0  Dollar($)                No                  No                No   \n",
       "1  Dollar($)                No                  No                No   \n",
       "2  Dollar($)                No                  No                No   \n",
       "3  Dollar($)                No                  No                No   \n",
       "4  Dollar($)                No                  No                No   \n",
       "\n",
       "   Price range  Aggregate rating Rating color Rating text  Votes  \n",
       "0            1               3.4       Orange     Average     45  \n",
       "1            1               4.0        Green   Very Good    170  \n",
       "2            1               4.3        Green   Very Good    167  \n",
       "3            1               3.5       Yellow        Good     74  \n",
       "4            1               3.6       Yellow        Good     59  "
      ]
     },
     "execution_count": 2,
     "metadata": {},
     "output_type": "execute_result"
    }
   ],
   "source": [
    "dataset=pd.read_csv(\"Dataset_for_Internship.csv\",encoding='unicode_escape')\n",
    "dataset.head(5)"
   ]
  },
  {
   "cell_type": "markdown",
   "id": "2e227874",
   "metadata": {},
   "source": [
    "# Task 4 :Online Delivery"
   ]
  },
  {
   "cell_type": "markdown",
   "id": "22bef2ba",
   "metadata": {},
   "source": [
    "### 1.Determine the percentage of restaurants that offer online delivery."
   ]
  },
  {
   "cell_type": "code",
   "execution_count": 3,
   "id": "f46b7bd1",
   "metadata": {},
   "outputs": [
    {
     "data": {
      "text/plain": [
       "Has Online delivery\n",
       "No     7091\n",
       "Yes    2451\n",
       "Name: count, dtype: int64"
      ]
     },
     "execution_count": 3,
     "metadata": {},
     "output_type": "execute_result"
    }
   ],
   "source": [
    "total_restro_offer_online_delivery=dataset[\"Has Online delivery\"].value_counts()\n",
    "total_restro_offer_online_delivery"
   ]
  },
  {
   "cell_type": "code",
   "execution_count": 4,
   "id": "c28c26d7",
   "metadata": {},
   "outputs": [
    {
     "data": {
      "text/plain": [
       "Has Online delivery\n",
       "No     74.313561\n",
       "Yes    25.686439\n",
       "Name: count, dtype: float64"
      ]
     },
     "execution_count": 4,
     "metadata": {},
     "output_type": "execute_result"
    }
   ],
   "source": [
    "per_offer_online_delivery=((total_restro_offer_online_delivery/len(dataset))*100)\n",
    "per_offer_online_delivery"
   ]
  },
  {
   "cell_type": "markdown",
   "id": "ae699bba",
   "metadata": {},
   "source": [
    "The analysis shows that 74.31% of restaurants do not have online delivery, while 25.69% do offer it. This means most restaurants still depend on dine-in or takeaway, with only a smaller number offering the convenience of online delivery, suggesting there is room for more restaurants to start offering delivery services."
   ]
  },
  {
   "cell_type": "markdown",
   "id": "5ec4e081",
   "metadata": {},
   "source": [
    " ### 2.Compare the average ratings of restaurants with and without online delivery."
   ]
  },
  {
   "cell_type": "code",
   "execution_count": 5,
   "id": "e0894839",
   "metadata": {},
   "outputs": [
    {
     "name": "stdout",
     "output_type": "stream",
     "text": [
      "3.2488372093023252 Has online delivery and 2.463517134395713 Dont have online delivery\n"
     ]
    }
   ],
   "source": [
    "average_rating_with_delivery = dataset[dataset['Has Online delivery'] == \"Yes\"]['Aggregate rating'].mean()\n",
    "average_rating_without_delivery = dataset[dataset['Has Online delivery'] == \"No\"]['Aggregate rating'].mean()\n",
    "print(f\"{average_rating_with_delivery} Has online delivery and {average_rating_without_delivery} Dont have online delivery\")"
   ]
  },
  {
   "cell_type": "markdown",
   "id": "2253c586",
   "metadata": {},
   "source": [
    "Restaurants that offer online delivery have an average rating of 3.25, while those that don't offer online delivery have a lower average rating of 2.46. This suggests that restaurants with online delivery tend to receive better customer ratings, possibly due to the added convenience and accessibility of their services."
   ]
  },
  {
   "cell_type": "code",
   "execution_count": null,
   "id": "df2ac374",
   "metadata": {},
   "outputs": [],
   "source": []
  }
 ],
 "metadata": {
  "kernelspec": {
   "display_name": "Python 3 (ipykernel)",
   "language": "python",
   "name": "python3"
  },
  "language_info": {
   "codemirror_mode": {
    "name": "ipython",
    "version": 3
   },
   "file_extension": ".py",
   "mimetype": "text/x-python",
   "name": "python",
   "nbconvert_exporter": "python",
   "pygments_lexer": "ipython3",
   "version": "3.11.5"
  }
 },
 "nbformat": 4,
 "nbformat_minor": 5
}
