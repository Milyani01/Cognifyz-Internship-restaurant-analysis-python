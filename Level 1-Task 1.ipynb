{
 "cells": [
  {
   "cell_type": "code",
   "execution_count": 1,
   "id": "095b0a02",
   "metadata": {},
   "outputs": [],
   "source": [
    "import pandas as pd\n",
    "import numpy as np\n",
    "import matplotlib.pyplot as plt\n",
    "import seaborn as sns"
   ]
  },
  {
   "cell_type": "code",
   "execution_count": 12,
   "id": "939091df",
   "metadata": {},
   "outputs": [
    {
     "data": {
      "text/html": [
       "<div>\n",
       "<style scoped>\n",
       "    .dataframe tbody tr th:only-of-type {\n",
       "        vertical-align: middle;\n",
       "    }\n",
       "\n",
       "    .dataframe tbody tr th {\n",
       "        vertical-align: top;\n",
       "    }\n",
       "\n",
       "    .dataframe thead th {\n",
       "        text-align: right;\n",
       "    }\n",
       "</style>\n",
       "<table border=\"1\" class=\"dataframe\">\n",
       "  <thead>\n",
       "    <tr style=\"text-align: right;\">\n",
       "      <th></th>\n",
       "      <th>Restaurant ID</th>\n",
       "      <th>Restaurant Name</th>\n",
       "      <th>Country Code</th>\n",
       "      <th>City</th>\n",
       "      <th>Longitude</th>\n",
       "      <th>Latitude</th>\n",
       "      <th>Cuisines</th>\n",
       "      <th>Average Cost for two</th>\n",
       "      <th>Currency</th>\n",
       "      <th>Has Table booking</th>\n",
       "      <th>Has Online delivery</th>\n",
       "      <th>Is delivering now</th>\n",
       "      <th>Price range</th>\n",
       "      <th>Aggregate rating</th>\n",
       "      <th>Rating color</th>\n",
       "      <th>Rating text</th>\n",
       "      <th>Votes</th>\n",
       "    </tr>\n",
       "  </thead>\n",
       "  <tbody>\n",
       "    <tr>\n",
       "      <th>0</th>\n",
       "      <td>17284302</td>\n",
       "      <td>El Vaquero Mexican Restaurant</td>\n",
       "      <td>216</td>\n",
       "      <td>Albany</td>\n",
       "      <td>-84.2194</td>\n",
       "      <td>31.6158</td>\n",
       "      <td>Mexican</td>\n",
       "      <td>0</td>\n",
       "      <td>Dollar($)</td>\n",
       "      <td>No</td>\n",
       "      <td>No</td>\n",
       "      <td>No</td>\n",
       "      <td>1</td>\n",
       "      <td>3.4</td>\n",
       "      <td>Orange</td>\n",
       "      <td>Average</td>\n",
       "      <td>45</td>\n",
       "    </tr>\n",
       "    <tr>\n",
       "      <th>1</th>\n",
       "      <td>17330155</td>\n",
       "      <td>Deorio's</td>\n",
       "      <td>216</td>\n",
       "      <td>Columbus</td>\n",
       "      <td>-84.9427</td>\n",
       "      <td>32.4810</td>\n",
       "      <td>Italian, Pizza</td>\n",
       "      <td>0</td>\n",
       "      <td>Dollar($)</td>\n",
       "      <td>No</td>\n",
       "      <td>No</td>\n",
       "      <td>No</td>\n",
       "      <td>1</td>\n",
       "      <td>4.0</td>\n",
       "      <td>Green</td>\n",
       "      <td>Very Good</td>\n",
       "      <td>170</td>\n",
       "    </tr>\n",
       "    <tr>\n",
       "      <th>2</th>\n",
       "      <td>17334679</td>\n",
       "      <td>Azteca</td>\n",
       "      <td>216</td>\n",
       "      <td>Davenport</td>\n",
       "      <td>-90.5683</td>\n",
       "      <td>41.5699</td>\n",
       "      <td>Mexican</td>\n",
       "      <td>0</td>\n",
       "      <td>Dollar($)</td>\n",
       "      <td>No</td>\n",
       "      <td>No</td>\n",
       "      <td>No</td>\n",
       "      <td>1</td>\n",
       "      <td>4.3</td>\n",
       "      <td>Green</td>\n",
       "      <td>Very Good</td>\n",
       "      <td>167</td>\n",
       "    </tr>\n",
       "    <tr>\n",
       "      <th>3</th>\n",
       "      <td>17342548</td>\n",
       "      <td>Happy Joe's Pizza &amp; Ice Cream</td>\n",
       "      <td>216</td>\n",
       "      <td>Dubuque</td>\n",
       "      <td>-90.7264</td>\n",
       "      <td>42.4955</td>\n",
       "      <td>Desserts, Pizza, Ice Cream</td>\n",
       "      <td>0</td>\n",
       "      <td>Dollar($)</td>\n",
       "      <td>No</td>\n",
       "      <td>No</td>\n",
       "      <td>No</td>\n",
       "      <td>1</td>\n",
       "      <td>3.5</td>\n",
       "      <td>Yellow</td>\n",
       "      <td>Good</td>\n",
       "      <td>74</td>\n",
       "    </tr>\n",
       "    <tr>\n",
       "      <th>4</th>\n",
       "      <td>17582499</td>\n",
       "      <td>Royal Hotel</td>\n",
       "      <td>216</td>\n",
       "      <td>Pocatello</td>\n",
       "      <td>-112.0127</td>\n",
       "      <td>42.6192</td>\n",
       "      <td>Pizza, Bar Food</td>\n",
       "      <td>0</td>\n",
       "      <td>Dollar($)</td>\n",
       "      <td>No</td>\n",
       "      <td>No</td>\n",
       "      <td>No</td>\n",
       "      <td>1</td>\n",
       "      <td>3.6</td>\n",
       "      <td>Yellow</td>\n",
       "      <td>Good</td>\n",
       "      <td>59</td>\n",
       "    </tr>\n",
       "  </tbody>\n",
       "</table>\n",
       "</div>"
      ],
      "text/plain": [
       "   Restaurant ID                Restaurant Name  Country Code       City  \\\n",
       "0       17284302  El Vaquero Mexican Restaurant           216     Albany   \n",
       "1       17330155                       Deorio's           216   Columbus   \n",
       "2       17334679                         Azteca           216  Davenport   \n",
       "3       17342548  Happy Joe's Pizza & Ice Cream           216    Dubuque   \n",
       "4       17582499                    Royal Hotel           216  Pocatello   \n",
       "\n",
       "   Longitude  Latitude                    Cuisines  Average Cost for two  \\\n",
       "0   -84.2194   31.6158                     Mexican                     0   \n",
       "1   -84.9427   32.4810              Italian, Pizza                     0   \n",
       "2   -90.5683   41.5699                     Mexican                     0   \n",
       "3   -90.7264   42.4955  Desserts, Pizza, Ice Cream                     0   \n",
       "4  -112.0127   42.6192             Pizza, Bar Food                     0   \n",
       "\n",
       "    Currency Has Table booking Has Online delivery Is delivering now  \\\n",
       "0  Dollar($)                No                  No                No   \n",
       "1  Dollar($)                No                  No                No   \n",
       "2  Dollar($)                No                  No                No   \n",
       "3  Dollar($)                No                  No                No   \n",
       "4  Dollar($)                No                  No                No   \n",
       "\n",
       "   Price range  Aggregate rating Rating color Rating text  Votes  \n",
       "0            1               3.4       Orange     Average     45  \n",
       "1            1               4.0        Green   Very Good    170  \n",
       "2            1               4.3        Green   Very Good    167  \n",
       "3            1               3.5       Yellow        Good     74  \n",
       "4            1               3.6       Yellow        Good     59  "
      ]
     },
     "execution_count": 12,
     "metadata": {},
     "output_type": "execute_result"
    }
   ],
   "source": [
    "dataset=pd.read_csv(\"Dataset_for_Internship.csv\",encoding='unicode_escape')\n",
    "dataset.head(5)"
   ]
  },
  {
   "cell_type": "code",
   "execution_count": 14,
   "id": "4e6cea39",
   "metadata": {},
   "outputs": [
    {
     "data": {
      "text/plain": [
       "(9542, 17)"
      ]
     },
     "execution_count": 14,
     "metadata": {},
     "output_type": "execute_result"
    }
   ],
   "source": [
    "dataset.shape"
   ]
  },
  {
   "cell_type": "code",
   "execution_count": 15,
   "id": "865e54d0",
   "metadata": {},
   "outputs": [
    {
     "name": "stdout",
     "output_type": "stream",
     "text": [
      "<class 'pandas.core.frame.DataFrame'>\n",
      "RangeIndex: 9542 entries, 0 to 9541\n",
      "Data columns (total 17 columns):\n",
      " #   Column                Non-Null Count  Dtype  \n",
      "---  ------                --------------  -----  \n",
      " 0   Restaurant ID         9542 non-null   int64  \n",
      " 1   Restaurant Name       9542 non-null   object \n",
      " 2   Country Code          9542 non-null   int64  \n",
      " 3   City                  9542 non-null   object \n",
      " 4   Longitude             9542 non-null   float64\n",
      " 5   Latitude              9542 non-null   float64\n",
      " 6   Cuisines              9542 non-null   object \n",
      " 7   Average Cost for two  9542 non-null   int64  \n",
      " 8   Currency              9542 non-null   object \n",
      " 9   Has Table booking     9542 non-null   object \n",
      " 10  Has Online delivery   9542 non-null   object \n",
      " 11  Is delivering now     9542 non-null   object \n",
      " 12  Price range           9542 non-null   int64  \n",
      " 13  Aggregate rating      9542 non-null   float64\n",
      " 14  Rating color          9542 non-null   object \n",
      " 15  Rating text           9542 non-null   object \n",
      " 16  Votes                 9542 non-null   int64  \n",
      "dtypes: float64(3), int64(5), object(9)\n",
      "memory usage: 1.2+ MB\n"
     ]
    }
   ],
   "source": [
    "dataset.info()"
   ]
  },
  {
   "cell_type": "markdown",
   "id": "dd481f67",
   "metadata": {},
   "source": [
    "# Level 1"
   ]
  },
  {
   "cell_type": "markdown",
   "id": "ff4a7ec2",
   "metadata": {},
   "source": [
    "## Task 1: Top Cuisines"
   ]
  },
  {
   "cell_type": "markdown",
   "id": "2136511a",
   "metadata": {},
   "source": [
    "### 1.Determine the top three most common cuisines in the dataset.¶"
   ]
  },
  {
   "cell_type": "code",
   "execution_count": 16,
   "id": "b0d7e213",
   "metadata": {
    "scrolled": true
   },
   "outputs": [
    {
     "data": {
      "text/plain": [
       "Cuisines\n",
       "North Indian             936\n",
       "North Indian, Chinese    511\n",
       "Chinese                  354\n",
       "Name: count, dtype: int64"
      ]
     },
     "execution_count": 16,
     "metadata": {},
     "output_type": "execute_result"
    }
   ],
   "source": [
    "top_three_cuisines=dataset[\"Cuisines\"].value_counts().head(3)\n",
    "top_three_cuisines"
   ]
  },
  {
   "cell_type": "code",
   "execution_count": 17,
   "id": "eea441c5",
   "metadata": {},
   "outputs": [
    {
     "data": {
      "image/png": "[encoded data removed]",
      "text/plain": [
       "<Figure size 700x500 with 1 Axes>"
      ]
     },
     "metadata": {},
     "output_type": "display_data"
    }
   ],
   "source": [
    "#Graphical representation of top 3 Cuisines.\n",
    "plt.figure(figsize=(7,5))\n",
    "plt.bar(top_three_cuisines.index,top_three_cuisines.values)\n",
    "plt.xlabel(\"Cuisines\")\n",
    "plt.ylabel(\"Frequency\")\n",
    "plt.title(\"Top Three Cuisines\")\n",
    "plt.show()\n"
   ]
  },
  {
   "cell_type": "markdown",
   "id": "279c341e",
   "metadata": {},
   "source": [
    "The top three most common cuisines in the dataset are \"North Indian,\" \"North Indian and Chinese,\" and \"Chinese.\" This indicates that North Indian cuisine is highly popular on its own, and a combination of North Indian and Chinese is also in demand, suggesting a preference for fusion or diverse dining options. Additionally, Chinese cuisine independently holds a strong presence, making it a widely favored choice among customers."
   ]
  },
  {
   "cell_type": "markdown",
   "id": "ab9bf18b",
   "metadata": {},
   "source": [
    "### 2.Calculate the percentage of restaurants that serve each of the top cuisines."
   ]
  },
  {
   "cell_type": "code",
   "execution_count": 18,
   "id": "2ff94f73",
   "metadata": {},
   "outputs": [
    {
     "data": {
      "text/plain": [
       "Cuisines\n",
       "North Indian             9.809264\n",
       "North Indian, Chinese    5.355271\n",
       "Chinese                  3.709914\n",
       "Name: count, dtype: float64"
      ]
     },
     "execution_count": 18,
     "metadata": {},
     "output_type": "execute_result"
    }
   ],
   "source": [
    "Percetage_top_three_cuisines=(top_three_cuisines/len(dataset))*100\n",
    "Percetage_top_three_cuisines"
   ]
  },
  {
   "cell_type": "code",
   "execution_count": 19,
   "id": "ceddecf8",
   "metadata": {},
   "outputs": [
    {
     "data": {
      "image/png": "[encoded data removed]",
      "text/plain": [
       "<Figure size 640x480 with 1 Axes>"
      ]
     },
     "metadata": {},
     "output_type": "display_data"
    }
   ],
   "source": [
    "plt.pie(Percetage_top_three_cuisines,labels=Percetage_top_three_cuisines.index,autopct='%1.1f%%',startangle=180)\n",
    "plt.title(\"Percetages of top three cuisines\")\n",
    "plt.show()"
   ]
  },
  {
   "cell_type": "markdown",
   "id": "0a06804a",
   "metadata": {},
   "source": [
    "The percentage of restaurants serving the top three cuisines shows that 52% of restaurants serve North Indian cuisine, 28.4% offer a combination of North Indian and Chinese, and 19.7% specialize in Chinese cuisine. This suggests that North Indian cuisine dominates the market, while fusion (North Indian + Chinese) and Chinese food still have a significant, though smaller, presence in the restaurant scene."
   ]
  },
  {
   "cell_type": "code",
   "execution_count": null,
   "id": "edc9dd78",
   "metadata": {},
   "outputs": [],
   "source": []
  }
 ],
 "metadata": {
  "kernelspec": {
   "display_name": "Python 3 (ipykernel)",
   "language": "python",
   "name": "python3"
  },
  "language_info": {
   "codemirror_mode": {
    "name": "ipython",
    "version": 3
   },
   "file_extension": ".py",
   "mimetype": "text/x-python",
   "name": "python",
   "nbconvert_exporter": "python",
   "pygments_lexer": "ipython3",
   "version": "3.11.5"
  }
 },
 "nbformat": 4,
 "nbformat_minor": 5
}
