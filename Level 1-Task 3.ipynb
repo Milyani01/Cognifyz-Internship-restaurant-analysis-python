{
 "cells": [
  {
   "cell_type": "code",
   "execution_count": 1,
   "id": "f3da18d4",
   "metadata": {},
   "outputs": [],
   "source": [
    "import pandas as pd\n",
    "import numpy as np\n",
    "import matplotlib.pyplot as plt"
   ]
  },
  {
   "cell_type": "code",
   "execution_count": 2,
   "id": "29e32126",
   "metadata": {},
   "outputs": [
    {
     "data": {
      "text/html": [
       "<div>\n",
       "<style scoped>\n",
       "    .dataframe tbody tr th:only-of-type {\n",
       "        vertical-align: middle;\n",
       "    }\n",
       "\n",
       "    .dataframe tbody tr th {\n",
       "        vertical-align: top;\n",
       "    }\n",
       "\n",
       "    .dataframe thead th {\n",
       "        text-align: right;\n",
       "    }\n",
       "</style>\n",
       "<table border=\"1\" class=\"dataframe\">\n",
       "  <thead>\n",
       "    <tr style=\"text-align: right;\">\n",
       "      <th></th>\n",
       "      <th>Restaurant ID</th>\n",
       "      <th>Restaurant Name</th>\n",
       "      <th>Country Code</th>\n",
       "      <th>City</th>\n",
       "      <th>Longitude</th>\n",
       "      <th>Latitude</th>\n",
       "      <th>Cuisines</th>\n",
       "      <th>Average Cost for two</th>\n",
       "      <th>Currency</th>\n",
       "      <th>Has Table booking</th>\n",
       "      <th>Has Online delivery</th>\n",
       "      <th>Is delivering now</th>\n",
       "      <th>Price range</th>\n",
       "      <th>Aggregate rating</th>\n",
       "      <th>Rating color</th>\n",
       "      <th>Rating text</th>\n",
       "      <th>Votes</th>\n",
       "    </tr>\n",
       "  </thead>\n",
       "  <tbody>\n",
       "    <tr>\n",
       "      <th>0</th>\n",
       "      <td>17284302</td>\n",
       "      <td>El Vaquero Mexican Restaurant</td>\n",
       "      <td>216</td>\n",
       "      <td>Albany</td>\n",
       "      <td>-84.2194</td>\n",
       "      <td>31.6158</td>\n",
       "      <td>Mexican</td>\n",
       "      <td>0</td>\n",
       "      <td>Dollar($)</td>\n",
       "      <td>No</td>\n",
       "      <td>No</td>\n",
       "      <td>No</td>\n",
       "      <td>1</td>\n",
       "      <td>3.4</td>\n",
       "      <td>Orange</td>\n",
       "      <td>Average</td>\n",
       "      <td>45</td>\n",
       "    </tr>\n",
       "    <tr>\n",
       "      <th>1</th>\n",
       "      <td>17330155</td>\n",
       "      <td>Deorio's</td>\n",
       "      <td>216</td>\n",
       "      <td>Columbus</td>\n",
       "      <td>-84.9427</td>\n",
       "      <td>32.4810</td>\n",
       "      <td>Italian, Pizza</td>\n",
       "      <td>0</td>\n",
       "      <td>Dollar($)</td>\n",
       "      <td>No</td>\n",
       "      <td>No</td>\n",
       "      <td>No</td>\n",
       "      <td>1</td>\n",
       "      <td>4.0</td>\n",
       "      <td>Green</td>\n",
       "      <td>Very Good</td>\n",
       "      <td>170</td>\n",
       "    </tr>\n",
       "    <tr>\n",
       "      <th>2</th>\n",
       "      <td>17334679</td>\n",
       "      <td>Azteca</td>\n",
       "      <td>216</td>\n",
       "      <td>Davenport</td>\n",
       "      <td>-90.5683</td>\n",
       "      <td>41.5699</td>\n",
       "      <td>Mexican</td>\n",
       "      <td>0</td>\n",
       "      <td>Dollar($)</td>\n",
       "      <td>No</td>\n",
       "      <td>No</td>\n",
       "      <td>No</td>\n",
       "      <td>1</td>\n",
       "      <td>4.3</td>\n",
       "      <td>Green</td>\n",
       "      <td>Very Good</td>\n",
       "      <td>167</td>\n",
       "    </tr>\n",
       "    <tr>\n",
       "      <th>3</th>\n",
       "      <td>17342548</td>\n",
       "      <td>Happy Joe's Pizza &amp; Ice Cream</td>\n",
       "      <td>216</td>\n",
       "      <td>Dubuque</td>\n",
       "      <td>-90.7264</td>\n",
       "      <td>42.4955</td>\n",
       "      <td>Desserts, Pizza, Ice Cream</td>\n",
       "      <td>0</td>\n",
       "      <td>Dollar($)</td>\n",
       "      <td>No</td>\n",
       "      <td>No</td>\n",
       "      <td>No</td>\n",
       "      <td>1</td>\n",
       "      <td>3.5</td>\n",
       "      <td>Yellow</td>\n",
       "      <td>Good</td>\n",
       "      <td>74</td>\n",
       "    </tr>\n",
       "    <tr>\n",
       "      <th>4</th>\n",
       "      <td>17582499</td>\n",
       "      <td>Royal Hotel</td>\n",
       "      <td>216</td>\n",
       "      <td>Pocatello</td>\n",
       "      <td>-112.0127</td>\n",
       "      <td>42.6192</td>\n",
       "      <td>Pizza, Bar Food</td>\n",
       "      <td>0</td>\n",
       "      <td>Dollar($)</td>\n",
       "      <td>No</td>\n",
       "      <td>No</td>\n",
       "      <td>No</td>\n",
       "      <td>1</td>\n",
       "      <td>3.6</td>\n",
       "      <td>Yellow</td>\n",
       "      <td>Good</td>\n",
       "      <td>59</td>\n",
       "    </tr>\n",
       "  </tbody>\n",
       "</table>\n",
       "</div>"
      ],
      "text/plain": [
       "   Restaurant ID                Restaurant Name  Country Code       City  \\\n",
       "0       17284302  El Vaquero Mexican Restaurant           216     Albany   \n",
       "1       17330155                       Deorio's           216   Columbus   \n",
       "2       17334679                         Azteca           216  Davenport   \n",
       "3       17342548  Happy Joe's Pizza & Ice Cream           216    Dubuque   \n",
       "4       17582499                    Royal Hotel           216  Pocatello   \n",
       "\n",
       "   Longitude  Latitude                    Cuisines  Average Cost for two  \\\n",
       "0   -84.2194   31.6158                     Mexican                     0   \n",
       "1   -84.9427   32.4810              Italian, Pizza                     0   \n",
       "2   -90.5683   41.5699                     Mexican                     0   \n",
       "3   -90.7264   42.4955  Desserts, Pizza, Ice Cream                     0   \n",
       "4  -112.0127   42.6192             Pizza, Bar Food                     0   \n",
       "\n",
       "    Currency Has Table booking Has Online delivery Is delivering now  \\\n",
       "0  Dollar($)                No                  No                No   \n",
       "1  Dollar($)                No                  No                No   \n",
       "2  Dollar($)                No                  No                No   \n",
       "3  Dollar($)                No                  No                No   \n",
       "4  Dollar($)                No                  No                No   \n",
       "\n",
       "   Price range  Aggregate rating Rating color Rating text  Votes  \n",
       "0            1               3.4       Orange     Average     45  \n",
       "1            1               4.0        Green   Very Good    170  \n",
       "2            1               4.3        Green   Very Good    167  \n",
       "3            1               3.5       Yellow        Good     74  \n",
       "4            1               3.6       Yellow        Good     59  "
      ]
     },
     "execution_count": 2,
     "metadata": {},
     "output_type": "execute_result"
    }
   ],
   "source": [
    "dataset=pd.read_csv(\"Dataset_for_Internship.csv\",encoding='unicode_escape')\n",
    "dataset.head(5)"
   ]
  },
  {
   "cell_type": "markdown",
   "id": "7d47e7d7",
   "metadata": {},
   "source": [
    "# Level 1"
   ]
  },
  {
   "cell_type": "markdown",
   "id": "cbb2ed7c",
   "metadata": {},
   "source": [
    "## Task 3: Price Range Distribution"
   ]
  },
  {
   "cell_type": "markdown",
   "id": "48ffcf4b",
   "metadata": {},
   "source": [
    "### 1.Create a histogram or bar chart to visualize the distribution of price ranges among the restaurants."
   ]
  },
  {
   "cell_type": "code",
   "execution_count": 3,
   "id": "ce28bf46",
   "metadata": {},
   "outputs": [
    {
     "data": {
      "text/plain": [
       "Price range\n",
       "1    4438\n",
       "2    3113\n",
       "3    1405\n",
       "4     586\n",
       "Name: count, dtype: int64"
      ]
     },
     "execution_count": 3,
     "metadata": {},
     "output_type": "execute_result"
    }
   ],
   "source": [
    "prize_range_distri=dataset[\"Price range\"].value_counts()\n",
    "prize_range_distri"
   ]
  },
  {
   "cell_type": "code",
   "execution_count": 7,
   "id": "cc6032b3",
   "metadata": {},
   "outputs": [
    {
     "data": {
      "image/png": "[encoded data removed]",
      "text/plain": [
       "<Figure size 640x480 with 1 Axes>"
      ]
     },
     "metadata": {},
     "output_type": "display_data"
    }
   ],
   "source": [
    "plt.bar(prize_range_distri.index,prize_range_distri.values,color=\"blue\")\n",
    "plt.xlabel(\"Range\")\n",
    "plt.ylabel(\"No.of Restaurants\")\n",
    "plt.title(\"Distribution of price ranges among the Restaurants\",fontsize=15)\n",
    "plt.grid(True)\n",
    "plt.show()"
   ]
  },
  {
   "cell_type": "markdown",
   "id": "bbba2bab",
   "metadata": {},
   "source": [
    "The data shows that the majority of items fall into the lower price ranges (1.0 and 2.0), with a significant drop as the price increases. Specifically, the high-price range (4.0) is the least common, indicating a strong focus on budget-friendly options in the dataset."
   ]
  },
  {
   "cell_type": "markdown",
   "id": "4677d90b",
   "metadata": {},
   "source": [
    "### 2. Calculate the percentage of restaurants in each price range category"
   ]
  },
  {
   "cell_type": "code",
   "execution_count": 5,
   "id": "1b58f0c4",
   "metadata": {},
   "outputs": [
    {
     "data": {
      "text/plain": [
       "Price range\n",
       "1    46.510166\n",
       "2    32.624188\n",
       "3    14.724376\n",
       "4     6.141270\n",
       "Name: count, dtype: float64"
      ]
     },
     "execution_count": 5,
     "metadata": {},
     "output_type": "execute_result"
    }
   ],
   "source": [
    "per_each_price_range=((prize_range_distri)/len(dataset))*100\n",
    "per_each_price_range"
   ]
  },
  {
   "cell_type": "code",
   "execution_count": 6,
   "id": "ca335696",
   "metadata": {},
   "outputs": [
    {
     "data": {
      "image/png": "[encoded data removed]",
      "text/plain": [
       "<Figure size 640x480 with 1 Axes>"
      ]
     },
     "metadata": {},
     "output_type": "display_data"
    }
   ],
   "source": [
    "plt.pie(per_each_price_range.values,labels=per_each_price_range.index,autopct='%1.1f%%',startangle=90)\n",
    "plt.title(\"Percentage of restaurants in each price range category\")\n",
    "plt.show()"
   ]
  },
  {
   "cell_type": "markdown",
   "id": "688ad291",
   "metadata": {},
   "source": [
    "The data reveals that the majority of items are in the lowest price range (1.0) at 46.5%, with a sharp decrease in percentage as the price increases. The highest price range (4.0) constitutes only 6.1% of the items, highlighting a strong concentration in lower-priced categories."
   ]
  },
  {
   "cell_type": "code",
   "execution_count": null,
   "id": "c8d93af8",
   "metadata": {},
   "outputs": [],
   "source": []
  }
 ],
 "metadata": {
  "kernelspec": {
   "display_name": "Python 3 (ipykernel)",
   "language": "python",
   "name": "python3"
  },
  "language_info": {
   "codemirror_mode": {
    "name": "ipython",
    "version": 3
   },
   "file_extension": ".py",
   "mimetype": "text/x-python",
   "name": "python",
   "nbconvert_exporter": "python",
   "pygments_lexer": "ipython3",
   "version": "3.11.5"
  }
 },
 "nbformat": 4,
 "nbformat_minor": 5
}
